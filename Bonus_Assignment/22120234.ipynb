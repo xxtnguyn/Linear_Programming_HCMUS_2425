{
 "cells": [
  {
   "cell_type": "markdown",
   "metadata": {
    "id": "lUE3nULwTO3n"
   },
   "source": [
    "# Bài tập điểm cộng Quy hoạch Tuyến tính"
   ]
  },
  {
   "cell_type": "markdown",
   "metadata": {
    "id": "1EA-RqwTUyR7"
   },
   "source": [
    "Họ tên: **Đào Ngọc Thảo Nguyên**\n",
    "\n",
    "MSSV: **22120234**"
   ]
  },
  {
   "cell_type": "markdown",
   "metadata": {
    "id": "mMaUeigsjHeL"
   },
   "source": [
    "### Import các thư viện cần thiết"
   ]
  },
  {
   "cell_type": "code",
   "execution_count": 4,
   "metadata": {
    "id": "7GOorymHjV90"
   },
   "outputs": [],
   "source": [
    "import IPython.display as display     # hiển thị Geogebra\n",
    "from itertools import combinations    # chọn tất cả 2 thành phần trong tổ hợp\n",
    "from fractions import Fraction        # dùng cho phân số\n",
    "import math"
   ]
  },
  {
   "cell_type": "markdown",
   "metadata": {
    "id": "7TE0AcpzYIGd"
   },
   "source": [
    "## Bài tập cá nhân 1"
   ]
  },
  {
   "cell_type": "markdown",
   "metadata": {
    "id": "9-4ccEXoYUIz"
   },
   "source": [
    "Một nghiên cứu cho thấy tác động của vitamin A, B đối với cơ thể người trong một ngày; cụ thể là:\n",
    "\n",
    "*   Cơ thể tiếp nhận không quá 600 đơn vị vitamin A và không quá 500 đơn vị vitamin B.\n",
    "*   Cơ thể tiếp nhận tốt nhất từ 400 đến 1000 đơn vị vitamin cả A lẫn B.\n",
    "*   Do tác động phối hợp, số đơn vị vitamin B không ít hơn nửa số đơn vị vitamin A nhưng cũng không nhiều hơn 3 lần đơn vị vitamin A.\n",
    "\n",
    "Biết rằng giá của một đơn vị vitamin A là 9 đồng, còn của 1 đơn vị vitamin B là 7,5 đồng. Tính chi phí ít nhất và nhiều nhất mỗi ngày cần để có thể dùng đủ cả hai loại vitamin.\n",
    "\n",
    "Hint: có thể vẽ đồ thị bằng tool online: geogebra.org/classic"
   ]
  },
  {
   "cell_type": "markdown",
   "metadata": {
    "id": "P-MnH-WpjNhq"
   },
   "source": [
    "### Lời giải"
   ]
  },
  {
   "cell_type": "markdown",
   "metadata": {
    "id": "tbR3ExQSbMgI"
   },
   "source": [
    "Gọi $x$ và $y$ lần lượt là số đơn vị vitamin A và B cần dùng mỗi ngày ($ x, y \\geq 0 $); $T$ là số tiền cần dùng mỗi ngày (đơn vị: đồng) biết $T(x, y)$ = $9x+7,5y$.\n",
    "\n",
    "Mỗi ngày,\n",
    "\n",
    "\n",
    "*   Cơ thể tiếp nhận không quá 600 đơn vị vitamin A và không quá 500 đơn vị vitamin B $\\Leftrightarrow x\\leq600$ và $y\\leq500$\n",
    "*   Cơ thể tiếp nhận tốt nhất từ 400 đến 1000 đơn vị vitamin cả A lẫn B $\\Leftrightarrow 400\\leq x+y\\leq 1000$\n",
    "*   Do tác động phối hợp, số đơn vị vitamin B không ít hơn nửa số đơn vị vitamin A nhưng cũng không nhiều hơn 3 lần đơn vị vitamin A $\\Leftrightarrow 0,5x \\leq y \\leq 3x$\n",
    "\n",
    "Từ đây, bài toán trở thành bài toán tìm ($x,y$) sao cho thoả mãn:\n",
    "\n",
    "\\begin{cases}\n",
    "0 \\leq x \\leq 600 \\\\\n",
    "0 \\leq y \\leq 500 \\\\\n",
    "400 \\leq x + y \\leq 1000 \\\\\n",
    "0,5x \\leq y \\leq 3x \\\\\n",
    "\\end{cases}\n",
    "\n",
    "sao cho $T(x,y)$ đạt giá trị nhỏ nhất / lớn nhất.\n",
    "\n",
    "Miền nghiệm trên là miền của đa giác dưới đây.\n"
   ]
  },
  {
   "cell_type": "code",
   "execution_count": 9,
   "metadata": {
    "colab": {
     "base_uri": "https://localhost:8080/",
     "height": 623
    },
    "id": "tM6uFdndqOp_",
    "outputId": "7e53aa80-d4c7-4b19-ec64-63f49df8551a"
   },
   "outputs": [
    {
     "data": {
      "text/html": [
       "\n",
       "<iframe src=\"https://www.geogebra.org/calculator/bngu8f7g?embed\" width=\"1200\" height=\"600\" allowfullscreen style=\"border: 1px solid #e4e4e4;border-radius: 4px;\" frameborder=\"0\"></iframe>\n"
      ],
      "text/plain": [
       "<IPython.core.display.HTML object>"
      ]
     },
     "execution_count": 9,
     "metadata": {},
     "output_type": "execute_result"
    }
   ],
   "source": [
    "fig01 = \"\"\"\n",
    "<iframe src=\"https://www.geogebra.org/calculator/bngu8f7g?embed\" width=\"1200\" height=\"600\" allowfullscreen style=\"border: 1px solid #e4e4e4;border-radius: 4px;\" frameborder=\"0\"></iframe>\n",
    "\"\"\"\n",
    "display.HTML(fig01)"
   ]
  },
  {
   "cell_type": "markdown",
   "metadata": {
    "id": "yYxzyv7xtbgK"
   },
   "source": [
    "Ta tính toán các điểm giao nhau giữa 2 miền bất kỳ (hay các điểm biên của đa giác) bằng phương trình hoành độ giao điểm:\n",
    "\n",
    "(i) $ 600 = 1000 - y \\Leftrightarrow y = 400$\n",
    "\n",
    "(ii) $ 600 = \\frac{1}{0,5}y \\Leftrightarrow y = 300 $\n",
    "\n",
    "(iii) $ 500 = 3x \\Leftrightarrow x = \\frac{500}{3}$\n",
    "\n",
    "(iv) $ 500 = 1000 - x \\Leftrightarrow x = 500 $\n",
    "\n",
    "(v) $ 400 - x = 3x \\Leftrightarrow x = 100 $\n",
    "\n",
    "(vi) $ 400 - x = 0,5x \\Leftrightarrow x = \\frac{800}{3} $\n",
    "\n",
    "Do miền ràng buộc bị chặn nên hàm $T$ có thể đạt giá trị lớn nhất và nhỏ nhất tại các điểm (600, 400), (600, 300), ($\\frac{500}{3}$, 500), (500, 500), (100, 300), ($\\frac{800}{3}$, $\\frac{400}{3}$).\n",
    "\n",
    "Tìm giá trị lớn nhất, nhỏ nhất:\n",
    "\n",
    "$$T(600, 400) = 9\\times600 + 7,5\\times400 = 8400$$\n",
    "\n",
    "$$T(600, 300) = 9\\times600 + 7,5\\times300 = 7650$$\n",
    "\n",
    "$$T(\\frac{500}{3}, 500) = 9\\times\\frac{500}{3} + 7,5\\times500 = 5250$$\n",
    "\n",
    "$$T(500, 500) = 9\\times500 + 7,5\\times500 = 8250$$\n",
    "\n",
    "$$T(100, 300) = 9\\times100 + 7,5\\times300 = 3150$$\n",
    "\n",
    "$$T(\\frac{800}{3}, \\frac{400}{3}) = 9\\times\\frac{800}{3} + 7,5\\times\\frac{400}{3} = 3400$$\n",
    "\n",
    "Như vậy, ta tính được giá trị lớn nhất và nhỏ nhất của hàm $T$ lần lượt là 8400 và 3150. Hay nói cách khác, chi phí ít nhất và nhiều nhất mỗi ngày cần để có thể dùng đủ cả hai loại vitamin lần lượt là 8400 và 3150 đồng."
   ]
  },
  {
   "cell_type": "markdown",
   "metadata": {
    "id": "KAZlIX0taEZ5"
   },
   "source": [
    "## Bài tập cá nhân 2"
   ]
  },
  {
   "cell_type": "markdown",
   "metadata": {
    "id": "9hjlMqebaE_q"
   },
   "source": [
    "Viết function để nhập/xuất dữ liệu từ bàn phím: số nguyên dương M và danh sách M điều kiện (M <= 10, các số thuộc miền [-50;50]) dạng\n",
    "\n",
    "<center> a[i]*x1+b[i]*x2 <= d[i] </center>\n",
    "\n",
    "và minimize/maximize hàm mục tiêu F = $c1 \\times x1+c2 \\times x2$ (mặc định x1, x2 >=0); trả lời các câu hỏi sau:\n",
    "\n",
    "1) Danh sách các điểm cực biên.\n",
    "\n",
    "2) Miền ràng buộc có bị chặn hay không?\n",
    "\n",
    "3) GTNN và GTLN tìm được (có thể không có).\n"
   ]
  },
  {
   "cell_type": "markdown",
   "metadata": {
    "id": "hw7gmzpsZS8H"
   },
   "source": [
    "### Lời giải"
   ]
  },
  {
   "cell_type": "markdown",
   "metadata": {
    "id": "iyJat7_haq7k"
   },
   "source": [
    "Hàm nhập dữ liệu"
   ]
  },
  {
   "cell_type": "code",
   "execution_count": 15,
   "metadata": {
    "id": "7u40ZjnlUw-H"
   },
   "outputs": [],
   "source": [
    "def input_data():\n",
    "    M = int(input())\n",
    "    if M > 10 or M <= 0:\n",
    "        return print(\"M phải là số nguyên dương và không lớn hơn 10.\")\n",
    "\n",
    "    constraints = []\n",
    "    constraints.append((-1, 0, 0))\n",
    "    constraints.append((0, -1, 0))\n",
    "    for i in range(M):\n",
    "        a, b, d = map(float, input().split())\n",
    "        if not (-50 <= a <= 50 and -50 <= b <= 50 and -50 <= d <= 50):\n",
    "            return print(\"Các giá trị phải thuộc miền [-50; 50].\")\n",
    "        constraints.append((a, b, d))\n",
    "\n",
    "    c1, c2 = map(float, input().split())\n",
    "\n",
    "    return M, constraints, c1, c2"
   ]
  },
  {
   "cell_type": "code",
   "execution_count": 16,
   "metadata": {
    "id": "pIvlmyxTu9nX"
   },
   "outputs": [],
   "source": [
    "# For testing...\n",
    "\n",
    "# M, constraints, c1, c2 = input_data()"
   ]
  },
  {
   "cell_type": "markdown",
   "metadata": {
    "id": "YFx4dk-CbQJh"
   },
   "source": [
    "Hàm tìm các điểm cực biên"
   ]
  },
  {
   "cell_type": "code",
   "execution_count": 18,
   "metadata": {
    "id": "NOR8P-FtZYXg"
   },
   "outputs": [],
   "source": [
    "# Phương pháp Cramer\n",
    "def solve_linear_system(a1, b1, c1, a2, b2, c2):\n",
    "    det = a1 * b2 - a2 * b1\n",
    "    if det == 0:\n",
    "        return None\n",
    "    x = (c1 * b2 - c2 * b1) / det\n",
    "    y = (a1 * c2 - a2 * c1) / det\n",
    "\n",
    "    # Đảm bảo hiển thị 0.0 thay vì -0.0\n",
    "    x = 0.0 if x == 0 else x\n",
    "    y = 0.0 if y == 0 else y\n",
    "    return (x, y)\n",
    "\n",
    "# Kiểm tra điểm có hợp lệ, tức là thoả mãn ràng buộc\n",
    "def is_valid_point(point, constraints):\n",
    "    x, y = point\n",
    "    for (a, b, c) in constraints:\n",
    "        if round(a * x + b * y, 3) > round(c, 3):\n",
    "            # print(round(a * x + b * y, 3), round(c, 3))\n",
    "            # print(\"oke \", point)\n",
    "            return False\n",
    "    return True\n",
    "\n",
    "# Tìm điểm cực biên\n",
    "def find_extreme_points(constraints):\n",
    "    extreme_points = []\n",
    "    for (c1, c2) in combinations(constraints, 2):\n",
    "        # print(c1, c2)\n",
    "        point = solve_linear_system(c1[0], c1[1], c1[2], c2[0], c2[1], c2[2])\n",
    "        # print(point)\n",
    "        if point is not None and is_valid_point(point, constraints):\n",
    "            extreme_points.append(point)\n",
    "\n",
    "    return list(set(extreme_points))"
   ]
  },
  {
   "cell_type": "code",
   "execution_count": 19,
   "metadata": {
    "id": "cXq6mr3KbfIb"
   },
   "outputs": [],
   "source": [
    "# For testing...\n",
    "\n",
    "# extreme_points = find_extreme_points(constraints)\n",
    "# print('Danh sách các điểm cực biên là: ', extreme_points)"
   ]
  },
  {
   "cell_type": "markdown",
   "metadata": {
    "id": "1ngetN3SusYv"
   },
   "source": [
    "Hàm kiểm tra xem miền có bị chặn không"
   ]
  },
  {
   "cell_type": "code",
   "execution_count": 21,
   "metadata": {},
   "outputs": [],
   "source": [
    "def convex_hull(points):\n",
    "    points = sorted(set(points))\n",
    "\n",
    "    # Nếu số điểm nhỏ hơn hoặc bằng 1, không thể tạo bao lồi, trả về luôn\n",
    "    if len(points) <= 1:\n",
    "        return points\n",
    "\n",
    "    def cross(o, a, b):\n",
    "        return (a[0] - o[0]) * (b[1] - o[1]) - (a[1] - o[1]) * (b[0] - o[0])\n",
    "\n",
    "    lower = []\n",
    "    for p in points:\n",
    "        while len(lower) >= 2 and cross(lower[-2], lower[-1], p) <= 0:\n",
    "            lower.pop()\n",
    "        lower.append(p)\n",
    "\n",
    "    upper = []\n",
    "    for p in reversed(points):\n",
    "        while len(upper) >= 2 and cross(upper[-2], upper[-1], p) <= 0:\n",
    "            upper.pop()\n",
    "        upper.append(p)\n",
    "\n",
    "    return lower[:-1] + upper[:-1]\n",
    "\n",
    "# Kiểm tra xem đoạn thẳng (p1, p2) có nằm trên một trong các đường ràng buộc không\n",
    "def is_edge_in_constraints(p1, p2, constraints):\n",
    "    for a, b, c in constraints:\n",
    "        # print(a * p1[0] + b * p1[1], c, a * p2[0] + b * p2[1])\n",
    "        if round(a * p1[0] + b * p1[1], 3) == c and round(a * p2[0] + b * p2[1], 3) == c:\n",
    "            # print(p1, p2)\n",
    "            # print(a * p1[0] + b * p1[1], c, a * p2[0] + b * p2[1])\n",
    "            return True\n",
    "    return False\n",
    "\n",
    "def sort_convex_hull(hull):\n",
    "    # Tìm điểm có y nhỏ nhất (nếu trùng thì chọn x nhỏ nhất)\n",
    "    min_point = min(hull, key=lambda p: (p[1], p[0]))\n",
    "\n",
    "    # Sắp xếp theo góc đối với điểm min_point\n",
    "    hull_sorted = sorted(hull, key=lambda p: math.atan2(p[1] - min_point[1], p[0] - min_point[0]))\n",
    "\n",
    "    return hull_sorted\n",
    "\n",
    "# Kiểm tra xem bao lồi có bị giới hạn bởi các ràng buộc hay không\n",
    "def is_bounded(extreme_points, constraints):\n",
    "    hull = (convex_hull(extreme_points))\n",
    "    if len(hull) == 0:\n",
    "      return None\n",
    "    if len(hull) <= 2:\n",
    "      return False\n",
    "    hull = sort_convex_hull(hull)\n",
    "    # print(hull)\n",
    "    for i in range(len(hull)):\n",
    "        p1, p2 = hull[i], hull[(i+1) % len(hull)]\n",
    "        if not is_edge_in_constraints(p1, p2, constraints):\n",
    "            # print(p1, p2)\n",
    "            return False\n",
    "    return True"
   ]
  },
  {
   "cell_type": "code",
   "execution_count": 22,
   "metadata": {
    "id": "heJ1KSV3Y97l"
   },
   "outputs": [],
   "source": [
    "# For testing...\n",
    "\n",
    "# check_bounded = is_bounded(extreme_points, constraints)\n",
    "# if check_bounded == True:\n",
    "#     print(\"Miền ràng buộc bị chặn.\")\n",
    "# elif check_bounded == False:\n",
    "#     print(\"Miền ràng buộc không bị chặn.\")\n",
    "# else:\n",
    "#     print(\"Bài toán không có miền ràng buộc.\")"
   ]
  },
  {
   "cell_type": "markdown",
   "metadata": {
    "id": "hZWkwWqCwMoc"
   },
   "source": [
    "Hàm xuất ra giá trị lớn nhất / nhỏ nhất"
   ]
  },
  {
   "cell_type": "code",
   "execution_count": 24,
   "metadata": {
    "id": "W3KcuqB3aU5n"
   },
   "outputs": [],
   "source": [
    "def find_min_max_objective(extreme_points, constraints, c1, c2):\n",
    "  # Nếu không có điểm cực biên, trả về None\n",
    "  if not extreme_points:\n",
    "        return None, None, None, None\n",
    "\n",
    "  F = [(c1 * x + c2 * y, (x, y)) for x, y in extreme_points]\n",
    "\n",
    "  # Tìm điểm có giá trị lớn nhất và nhỏ nhất của hàm mục tiêu\n",
    "  min_val, min_point = min(F)\n",
    "  max_val, max_point = max(F)\n",
    "\n",
    "  if is_bounded(extreme_points, constraints):\n",
    "    return min_val, min_point, max_val, max_point\n",
    "\n",
    "  # Kiểm tra các ràng buộc rồi chọn 1 điểm vô cực thuộc 1 ràng buộc cùng 2 điểm\n",
    "  # (10 000, 0) và (0, 10 000) xem có thỏa các ràng buộc khác không.\n",
    "  inf_points = [[10000, 0], [0, 10000]]\n",
    "\n",
    "  for cons in constraints:\n",
    "    x1 = 10000\n",
    "    a, b, c = cons\n",
    "    a_frac = Fraction.from_float(c - a * x1)\n",
    "    b_frac = Fraction.from_float(b)\n",
    "    # print(a_frac, b_frac)\n",
    "    if b_frac == 0:\n",
    "      x2 = 0\n",
    "    else:\n",
    "      x2 = a_frac / b_frac\n",
    "    if x2 >= 0:\n",
    "      inf_points.append([x1, x2])\n",
    "\n",
    "  # Chọn điểm phù hợp thỏa mãn tất cả các ràng buộc còn lại\n",
    "  select_points = []\n",
    "  for point in inf_points:\n",
    "      x1, x2 = point\n",
    "      count = 0\n",
    "      for cons in constraints:\n",
    "          a, b, c = cons\n",
    "          # print(a, b, c)\n",
    "          if round(a * x1 + b * x2, 3) <= round(c, 3):\n",
    "            count += 1\n",
    "      # print(count, len(constraints), point)\n",
    "      if count == len(constraints):\n",
    "          select_points.append(point)\n",
    "          # break\n",
    "\n",
    "  # print(select_points)\n",
    "  F_selected_point = [c1 * select_point[0] + c2 * select_point[1] for select_point in select_points]\n",
    "\n",
    "  # Nếu giá trị tại điểm vô cực lớn hơn giá trị lớn nhất ban đầu, nghĩa là bài toán không bị chặn\n",
    "  if any(x > max_val for x in F_selected_point) and any(x < min_val for x in F_selected_point):\n",
    "    return None, None, None, None\n",
    "  elif any(x > max_val for x in F_selected_point):\n",
    "    return min_val, min_point, None, None\n",
    "  elif any(x < min_val for x in F_selected_point):\n",
    "    return None, None, max_val, max_point"
   ]
  },
  {
   "cell_type": "code",
   "execution_count": 25,
   "metadata": {
    "id": "Wv1-sND74wLw"
   },
   "outputs": [],
   "source": [
    "# For testing...\n",
    "\n",
    "# min_val, min_point, max_val, max_point = find_min_max_objective(extreme_points, constraints, c1, c2)\n",
    "# min_val, min_point, max_val, max_point"
   ]
  },
  {
   "cell_type": "markdown",
   "metadata": {
    "id": "nIEovvliyeZC"
   },
   "source": [
    "### Thử các test case"
   ]
  },
  {
   "cell_type": "markdown",
   "metadata": {
    "id": "m8zh2awvykTP"
   },
   "source": [
    "#### Test case 1"
   ]
  },
  {
   "cell_type": "code",
   "execution_count": 28,
   "metadata": {
    "colab": {
     "base_uri": "https://localhost:8080/"
    },
    "id": "K4SaHwf8y2Xw",
    "outputId": "70b9c202-fd9f-44f2-e009-df90e2984d36"
   },
   "outputs": [
    {
     "name": "stdin",
     "output_type": "stream",
     "text": [
      " 3\n",
      " 1 1 5\n",
      " 0 1 2\n",
      " 1 2 6\n",
      " 30 50\n"
     ]
    },
    {
     "name": "stdout",
     "output_type": "stream",
     "text": [
      "Danh sách các điểm cực biên là:  [(0.0, 0.0), (0.0, 2.0), (5.0, 0.0), (2.0, 2.0), (4.0, 1.0)]\n",
      "Miền ràng buộc bị chặn.\n",
      "GTLN là F = 170.0 tại x1 = 4.0, x2 = 1.0\n",
      "GTNN là F = 0.0 tại x1 = 0.0, x2 = 0.0\n"
     ]
    }
   ],
   "source": [
    "M, constraints, c1, c2 = input_data()\n",
    "\n",
    "extreme_points = find_extreme_points(constraints)\n",
    "print('Danh sách các điểm cực biên là: ', extreme_points)\n",
    "\n",
    "check_bounded = is_bounded(extreme_points, constraints)\n",
    "if check_bounded == True:\n",
    "    print(\"Miền ràng buộc bị chặn.\")\n",
    "elif check_bounded == False:\n",
    "    print(\"Miền ràng buộc không bị chặn.\")\n",
    "else:\n",
    "    print(\"Bài toán không có phương án.\")\n",
    "    \n",
    "if check_bounded != None:\n",
    "    min_val, min_point, max_val, max_point = find_min_max_objective(extreme_points, constraints, c1, c2)\n",
    "    if min_val == None and max_val == None:\n",
    "      print('GTLN: không tồn tại')\n",
    "      print('GTNN: không tồn tại')\n",
    "    elif min_val == None:\n",
    "      print(f'GTLN là F = {max_val} tại x1 = {max_point[0]}, x2 = {max_point[1]}')\n",
    "      print('GTNN: không tồn tại')\n",
    "    elif max_val == None:\n",
    "      print('GTLN: không tồn tại')\n",
    "      print(f'GTNN là F = {min_val} tại x1 = {min_point[0]}, x2 = {min_point[1]}')\n",
    "    else:\n",
    "      print(f'GTLN là F = {max_val} tại x1 = {max_point[0]}, x2 = {max_point[1]}')\n",
    "      print(f'GTNN là F = {min_val} tại x1 = {min_point[0]}, x2 = {min_point[1]}')"
   ]
  },
  {
   "cell_type": "code",
   "execution_count": 29,
   "metadata": {
    "colab": {
     "base_uri": "https://localhost:8080/",
     "height": 623
    },
    "id": "933Hb-fznPwT",
    "outputId": "99cec52d-171f-47ce-d6e7-fb33657b68e7"
   },
   "outputs": [
    {
     "data": {
      "text/html": [
       "\n",
       "<iframe src=\"https://www.geogebra.org/calculator/cvvs2cka?embed\" width=\"1200\" height=\"600\" allowfullscreen style=\"border: 1px solid #e4e4e4;border-radius: 4px;\" frameborder=\"0\"></iframe>\n"
      ],
      "text/plain": [
       "<IPython.core.display.HTML object>"
      ]
     },
     "execution_count": 29,
     "metadata": {},
     "output_type": "execute_result"
    }
   ],
   "source": [
    "fig02 = \"\"\"\n",
    "<iframe src=\"https://www.geogebra.org/calculator/cvvs2cka?embed\" width=\"1200\" height=\"600\" allowfullscreen style=\"border: 1px solid #e4e4e4;border-radius: 4px;\" frameborder=\"0\"></iframe>\n",
    "\"\"\"\n",
    "display.HTML(fig02)"
   ]
  },
  {
   "cell_type": "markdown",
   "metadata": {
    "id": "Z2M7Uej-ymLO"
   },
   "source": [
    "#### Test case 2"
   ]
  },
  {
   "cell_type": "code",
   "execution_count": 31,
   "metadata": {
    "colab": {
     "base_uri": "https://localhost:8080/"
    },
    "id": "xy8hXzgu1sEJ",
    "outputId": "69ebbd13-8303-4726-d26c-78d2b7e5a1c5"
   },
   "outputs": [
    {
     "name": "stdin",
     "output_type": "stream",
     "text": [
      " 2 \n",
      " -2 -1 -14\n",
      " -2 -5 -30\n",
      " 4 3\n"
     ]
    },
    {
     "name": "stdout",
     "output_type": "stream",
     "text": [
      "Danh sách các điểm cực biên là:  [(15.0, 0.0), (0.0, 14.0), (5.0, 4.0)]\n",
      "Miền ràng buộc không bị chặn.\n",
      "GTLN: không tồn tại\n",
      "GTNN là F = 32.0 tại x1 = 5.0, x2 = 4.0\n"
     ]
    }
   ],
   "source": [
    "M, constraints, c1, c2 = input_data()\n",
    "\n",
    "extreme_points = find_extreme_points(constraints)\n",
    "print('Danh sách các điểm cực biên là: ', extreme_points)\n",
    "\n",
    "check_bounded = is_bounded(extreme_points, constraints)\n",
    "if check_bounded == True:\n",
    "    print(\"Miền ràng buộc bị chặn.\")\n",
    "elif check_bounded == False:\n",
    "    print(\"Miền ràng buộc không bị chặn.\")\n",
    "else:\n",
    "    print(\"Bài toán không có phương án.\")\n",
    "    \n",
    "if check_bounded != None:\n",
    "    min_val, min_point, max_val, max_point = find_min_max_objective(extreme_points, constraints, c1, c2)\n",
    "    if min_val == None and max_val == None:\n",
    "      print('GTLN: không tồn tại')\n",
    "      print('GTNN: không tồn tại')\n",
    "    elif min_val == None:\n",
    "      print(f'GTLN là F = {max_val} tại x1 = {max_point[0]}, x2 = {max_point[1]}')\n",
    "      print('GTNN: không tồn tại')\n",
    "    elif max_val == None:\n",
    "      print('GTLN: không tồn tại')\n",
    "      print(f'GTNN là F = {min_val} tại x1 = {min_point[0]}, x2 = {min_point[1]}')\n",
    "    else:\n",
    "      print(f'GTLN là F = {max_val} tại x1 = {max_point[0]}, x2 = {max_point[1]}')\n",
    "      print(f'GTNN là F = {min_val} tại x1 = {min_point[0]}, x2 = {min_point[1]}')"
   ]
  },
  {
   "cell_type": "code",
   "execution_count": 32,
   "metadata": {
    "colab": {
     "base_uri": "https://localhost:8080/",
     "height": 623
    },
    "id": "CrYadTPQnxGt",
    "outputId": "32355122-094b-470f-cf12-cb1ce40c01fc"
   },
   "outputs": [
    {
     "data": {
      "text/html": [
       "\n",
       "<iframe src=\"https://www.geogebra.org/calculator/xjq2pny3?embed\" width=\"1200\" height=\"600\" allowfullscreen style=\"border: 1px solid #e4e4e4;border-radius: 4px;\" frameborder=\"0\"></iframe>\n"
      ],
      "text/plain": [
       "<IPython.core.display.HTML object>"
      ]
     },
     "execution_count": 32,
     "metadata": {},
     "output_type": "execute_result"
    }
   ],
   "source": [
    "fig03 = \"\"\"\n",
    "<iframe src=\"https://www.geogebra.org/calculator/xjq2pny3?embed\" width=\"1200\" height=\"600\" allowfullscreen style=\"border: 1px solid #e4e4e4;border-radius: 4px;\" frameborder=\"0\"></iframe>\n",
    "\"\"\"\n",
    "display.HTML(fig03)"
   ]
  },
  {
   "cell_type": "markdown",
   "metadata": {
    "id": "klGmzFZ7yoSS"
   },
   "source": [
    "#### Test case 3"
   ]
  },
  {
   "cell_type": "code",
   "execution_count": 34,
   "metadata": {
    "colab": {
     "base_uri": "https://localhost:8080/"
    },
    "id": "zjq5pk31158R",
    "outputId": "ae7dfae7-220f-4363-db13-90ca6b0ff4ca"
   },
   "outputs": [
    {
     "name": "stdin",
     "output_type": "stream",
     "text": [
      " 2\n",
      " 1 2 16\n",
      " 5 3 45\n",
      " 2 5\n"
     ]
    },
    {
     "name": "stdout",
     "output_type": "stream",
     "text": [
      "Danh sách các điểm cực biên là:  [(9.0, 0.0), (0.0, 8.0), (6.0, 5.0), (0.0, 0.0)]\n",
      "Miền ràng buộc bị chặn.\n",
      "GTLN là F = 40.0 tại x1 = 0.0, x2 = 8.0\n",
      "GTNN là F = 0.0 tại x1 = 0.0, x2 = 0.0\n"
     ]
    }
   ],
   "source": [
    "M, constraints, c1, c2 = input_data()\n",
    "\n",
    "extreme_points = find_extreme_points(constraints)\n",
    "print('Danh sách các điểm cực biên là: ', extreme_points)\n",
    "\n",
    "check_bounded = is_bounded(extreme_points, constraints)\n",
    "if check_bounded == True:\n",
    "    print(\"Miền ràng buộc bị chặn.\")\n",
    "elif check_bounded == False:\n",
    "    print(\"Miền ràng buộc không bị chặn.\")\n",
    "else:\n",
    "    print(\"Bài toán không có phương án.\")\n",
    "    \n",
    "if check_bounded != None:\n",
    "    min_val, min_point, max_val, max_point = find_min_max_objective(extreme_points, constraints, c1, c2)\n",
    "    if min_val == None and max_val == None:\n",
    "      print('GTLN: không tồn tại')\n",
    "      print('GTNN: không tồn tại')\n",
    "    elif min_val == None:\n",
    "      print(f'GTLN là F = {max_val} tại x1 = {max_point[0]}, x2 = {max_point[1]}')\n",
    "      print('GTNN: không tồn tại')\n",
    "    elif max_val == None:\n",
    "      print('GTLN: không tồn tại')\n",
    "      print(f'GTNN là F = {min_val} tại x1 = {min_point[0]}, x2 = {min_point[1]}')\n",
    "    else:\n",
    "      print(f'GTLN là F = {max_val} tại x1 = {max_point[0]}, x2 = {max_point[1]}')\n",
    "      print(f'GTNN là F = {min_val} tại x1 = {min_point[0]}, x2 = {min_point[1]}')"
   ]
  },
  {
   "cell_type": "code",
   "execution_count": 35,
   "metadata": {
    "colab": {
     "base_uri": "https://localhost:8080/",
     "height": 623
    },
    "id": "DJ6EM4BCuN2d",
    "outputId": "068a68be-59fa-495c-80b0-5740e0de2f4e"
   },
   "outputs": [
    {
     "data": {
      "text/html": [
       "\n",
       "<iframe src=\"https://www.geogebra.org/calculator/wga8mw6s?embed\" width=\"1200\" height=\"600\" allowfullscreen style=\"border: 1px solid #e4e4e4;border-radius: 4px;\" frameborder=\"0\"></iframe>\n"
      ],
      "text/plain": [
       "<IPython.core.display.HTML object>"
      ]
     },
     "execution_count": 35,
     "metadata": {},
     "output_type": "execute_result"
    }
   ],
   "source": [
    "fig04 = \"\"\"\n",
    "<iframe src=\"https://www.geogebra.org/calculator/wga8mw6s?embed\" width=\"1200\" height=\"600\" allowfullscreen style=\"border: 1px solid #e4e4e4;border-radius: 4px;\" frameborder=\"0\"></iframe>\n",
    "\"\"\"\n",
    "display.HTML(fig04)"
   ]
  },
  {
   "cell_type": "markdown",
   "metadata": {
    "id": "Yeog_YLYytJO"
   },
   "source": [
    "#### Test case 4"
   ]
  },
  {
   "cell_type": "code",
   "execution_count": 37,
   "metadata": {
    "colab": {
     "base_uri": "https://localhost:8080/"
    },
    "id": "8TB6aj9U16kG",
    "outputId": "70e1fd68-3128-4610-f604-6d7e9173d95f"
   },
   "outputs": [
    {
     "name": "stdin",
     "output_type": "stream",
     "text": [
      " 3\n",
      " -1 -3 -6\n",
      " -5 -2 -10\n",
      " 0 1 4\n",
      " 5 7\n"
     ]
    },
    {
     "name": "stdout",
     "output_type": "stream",
     "text": [
      "Danh sách các điểm cực biên là:  [(1.3846153846153846, 1.5384615384615385), (0.4, 4.0), (6.0, 0.0)]\n",
      "Miền ràng buộc không bị chặn.\n",
      "GTLN: không tồn tại\n",
      "GTNN là F = 17.692307692307693 tại x1 = 1.3846153846153846, x2 = 1.5384615384615385\n"
     ]
    }
   ],
   "source": [
    "M, constraints, c1, c2 = input_data()\n",
    "\n",
    "extreme_points = find_extreme_points(constraints)\n",
    "print('Danh sách các điểm cực biên là: ', extreme_points)\n",
    "\n",
    "check_bounded = is_bounded(extreme_points, constraints)\n",
    "if check_bounded == True:\n",
    "    print(\"Miền ràng buộc bị chặn.\")\n",
    "elif check_bounded == False:\n",
    "    print(\"Miền ràng buộc không bị chặn.\")\n",
    "else:\n",
    "    print(\"Bài toán không có phương án.\")\n",
    "    \n",
    "if check_bounded != None:\n",
    "    min_val, min_point, max_val, max_point = find_min_max_objective(extreme_points, constraints, c1, c2)\n",
    "    if min_val == None and max_val == None:\n",
    "      print('GTLN: không tồn tại')\n",
    "      print('GTNN: không tồn tại')\n",
    "    elif min_val == None:\n",
    "      print(f'GTLN là F = {max_val} tại x1 = {max_point[0]}, x2 = {max_point[1]}')\n",
    "      print('GTNN: không tồn tại')\n",
    "    elif max_val == None:\n",
    "      print('GTLN: không tồn tại')\n",
    "      print(f'GTNN là F = {min_val} tại x1 = {min_point[0]}, x2 = {min_point[1]}')\n",
    "    else:\n",
    "      print(f'GTLN là F = {max_val} tại x1 = {max_point[0]}, x2 = {max_point[1]}')\n",
    "      print(f'GTNN là F = {min_val} tại x1 = {min_point[0]}, x2 = {min_point[1]}')"
   ]
  },
  {
   "cell_type": "code",
   "execution_count": 38,
   "metadata": {
    "colab": {
     "base_uri": "https://localhost:8080/",
     "height": 623
    },
    "id": "UQytp_Wuyei_",
    "outputId": "770a4fcc-edce-40ba-820d-fae7369f5fac"
   },
   "outputs": [
    {
     "data": {
      "text/html": [
       "\n",
       "<iframe src=\"https://www.geogebra.org/calculator/eeeejmtx?embed\" width=\"1200\" height=\"600\" allowfullscreen style=\"border: 1px solid #e4e4e4;border-radius: 4px;\" frameborder=\"0\"></iframe>\n"
      ],
      "text/plain": [
       "<IPython.core.display.HTML object>"
      ]
     },
     "execution_count": 38,
     "metadata": {},
     "output_type": "execute_result"
    }
   ],
   "source": [
    "fig05 = \"\"\"\n",
    "<iframe src=\"https://www.geogebra.org/calculator/eeeejmtx?embed\" width=\"1200\" height=\"600\" allowfullscreen style=\"border: 1px solid #e4e4e4;border-radius: 4px;\" frameborder=\"0\"></iframe>\n",
    "\"\"\"\n",
    "display.HTML(fig05)"
   ]
  },
  {
   "cell_type": "markdown",
   "metadata": {
    "id": "GSWOqw9RyxOD"
   },
   "source": [
    "#### Test case 5"
   ]
  },
  {
   "cell_type": "code",
   "execution_count": 40,
   "metadata": {
    "colab": {
     "base_uri": "https://localhost:8080/"
    },
    "id": "5-Ek1mo017Jf",
    "outputId": "401ab298-3365-4494-8d58-db952110980f"
   },
   "outputs": [
    {
     "name": "stdin",
     "output_type": "stream",
     "text": [
      " 2\n",
      " 1 -1 1\n",
      " -1 -1 -3\n",
      " 3 2\n"
     ]
    },
    {
     "name": "stdout",
     "output_type": "stream",
     "text": [
      "Danh sách các điểm cực biên là:  [(0.0, 3.0), (2.0, 1.0)]\n",
      "Miền ràng buộc không bị chặn.\n",
      "GTLN: không tồn tại\n",
      "GTNN là F = 6.0 tại x1 = 0.0, x2 = 3.0\n"
     ]
    }
   ],
   "source": [
    "M, constraints, c1, c2 = input_data()\n",
    "\n",
    "extreme_points = find_extreme_points(constraints)\n",
    "print('Danh sách các điểm cực biên là: ', extreme_points)\n",
    "\n",
    "check_bounded = is_bounded(extreme_points, constraints)\n",
    "if check_bounded == True:\n",
    "    print(\"Miền ràng buộc bị chặn.\")\n",
    "elif check_bounded == False:\n",
    "    print(\"Miền ràng buộc không bị chặn.\")\n",
    "else:\n",
    "    print(\"Bài toán không có phương án.\")\n",
    "    \n",
    "if check_bounded != None:\n",
    "    min_val, min_point, max_val, max_point = find_min_max_objective(extreme_points, constraints, c1, c2)\n",
    "    if min_val == None and max_val == None:\n",
    "      print('GTLN: không tồn tại')\n",
    "      print('GTNN: không tồn tại')\n",
    "    elif min_val == None:\n",
    "      print(f'GTLN là F = {max_val} tại x1 = {max_point[0]}, x2 = {max_point[1]}')\n",
    "      print('GTNN: không tồn tại')\n",
    "    elif max_val == None:\n",
    "      print('GTLN: không tồn tại')\n",
    "      print(f'GTNN là F = {min_val} tại x1 = {min_point[0]}, x2 = {min_point[1]}')\n",
    "    else:\n",
    "      print(f'GTLN là F = {max_val} tại x1 = {max_point[0]}, x2 = {max_point[1]}')\n",
    "      print(f'GTNN là F = {min_val} tại x1 = {min_point[0]}, x2 = {min_point[1]}')"
   ]
  },
  {
   "cell_type": "code",
   "execution_count": 41,
   "metadata": {
    "colab": {
     "base_uri": "https://localhost:8080/",
     "height": 623
    },
    "id": "V04uoWaXzFN0",
    "outputId": "8c86e30a-014e-4dd7-98be-dbdee693c895"
   },
   "outputs": [
    {
     "data": {
      "text/html": [
       "\n",
       "<iframe src=\"https://www.geogebra.org/calculator/xm7wbcrh?embed\" width=\"1200\" height=\"600\" allowfullscreen style=\"border: 1px solid #e4e4e4;border-radius: 4px;\" frameborder=\"0\"></iframe>\n"
      ],
      "text/plain": [
       "<IPython.core.display.HTML object>"
      ]
     },
     "execution_count": 41,
     "metadata": {},
     "output_type": "execute_result"
    }
   ],
   "source": [
    "fig06 = \"\"\"\n",
    "<iframe src=\"https://www.geogebra.org/calculator/xm7wbcrh?embed\" width=\"1200\" height=\"600\" allowfullscreen style=\"border: 1px solid #e4e4e4;border-radius: 4px;\" frameborder=\"0\"></iframe>\n",
    "\"\"\"\n",
    "display.HTML(fig06)"
   ]
  },
  {
   "cell_type": "markdown",
   "metadata": {
    "id": "Xn_ih6BL51Wg"
   },
   "source": [
    "#### Test case 6"
   ]
  },
  {
   "cell_type": "code",
   "execution_count": 43,
   "metadata": {
    "colab": {
     "base_uri": "https://localhost:8080/"
    },
    "id": "IOCbKyMLyh10",
    "outputId": "a4eb67ab-d7f5-4475-86e6-b0f20e71ade3"
   },
   "outputs": [
    {
     "name": "stdin",
     "output_type": "stream",
     "text": [
      " 1\n",
      " -2 -1 -5\n",
      " -5 10\n"
     ]
    },
    {
     "name": "stdout",
     "output_type": "stream",
     "text": [
      "Danh sách các điểm cực biên là:  [(2.5, 0.0), (0.0, 5.0)]\n",
      "Miền ràng buộc không bị chặn.\n",
      "GTLN: không tồn tại\n",
      "GTNN: không tồn tại\n"
     ]
    }
   ],
   "source": [
    "M, constraints, c1, c2 = input_data()\n",
    "\n",
    "extreme_points = find_extreme_points(constraints)\n",
    "print('Danh sách các điểm cực biên là: ', extreme_points)\n",
    "\n",
    "check_bounded = is_bounded(extreme_points, constraints)\n",
    "if check_bounded == True:\n",
    "    print(\"Miền ràng buộc bị chặn.\")\n",
    "elif check_bounded == False:\n",
    "    print(\"Miền ràng buộc không bị chặn.\")\n",
    "else:\n",
    "    print(\"Bài toán không có phương án.\")\n",
    "    \n",
    "if check_bounded != None:\n",
    "    min_val, min_point, max_val, max_point = find_min_max_objective(extreme_points, constraints, c1, c2)\n",
    "    if min_val == None and max_val == None:\n",
    "      print('GTLN: không tồn tại')\n",
    "      print('GTNN: không tồn tại')\n",
    "    elif min_val == None:\n",
    "      print(f'GTLN là F = {max_val} tại x1 = {max_point[0]}, x2 = {max_point[1]}')\n",
    "      print('GTNN: không tồn tại')\n",
    "    elif max_val == None:\n",
    "      print('GTLN: không tồn tại')\n",
    "      print(f'GTNN là F = {min_val} tại x1 = {min_point[0]}, x2 = {min_point[1]}')\n",
    "    else:\n",
    "      print(f'GTLN là F = {max_val} tại x1 = {max_point[0]}, x2 = {max_point[1]}')\n",
    "      print(f'GTNN là F = {min_val} tại x1 = {min_point[0]}, x2 = {min_point[1]}')"
   ]
  },
  {
   "cell_type": "code",
   "execution_count": 44,
   "metadata": {
    "colab": {
     "base_uri": "https://localhost:8080/",
     "height": 623
    },
    "id": "3rmcq5vU0u0u",
    "outputId": "217cd061-1d67-4de9-a93b-19dbaee95d09"
   },
   "outputs": [
    {
     "data": {
      "text/html": [
       "\n",
       "<iframe src=\"https://www.geogebra.org/calculator/eurcwmsw?embed\" width=\"1200\" height=\"600\" allowfullscreen style=\"border: 1px solid #e4e4e4;border-radius: 4px;\" frameborder=\"0\"></iframe>\n"
      ],
      "text/plain": [
       "<IPython.core.display.HTML object>"
      ]
     },
     "execution_count": 44,
     "metadata": {},
     "output_type": "execute_result"
    }
   ],
   "source": [
    "fig07 = \"\"\"\n",
    "<iframe src=\"https://www.geogebra.org/calculator/eurcwmsw?embed\" width=\"1200\" height=\"600\" allowfullscreen style=\"border: 1px solid #e4e4e4;border-radius: 4px;\" frameborder=\"0\"></iframe>\n",
    "\"\"\"\n",
    "display.HTML(fig07)"
   ]
  },
  {
   "cell_type": "markdown",
   "metadata": {
    "id": "hUrWVhu553YS"
   },
   "source": [
    "#### Test case 7"
   ]
  },
  {
   "cell_type": "code",
   "execution_count": 46,
   "metadata": {
    "colab": {
     "base_uri": "https://localhost:8080/"
    },
    "id": "g8eQxCxH1hYU",
    "outputId": "00cd80f0-5312-4fd1-ac8c-ee1a5e59b74d"
   },
   "outputs": [
    {
     "name": "stdin",
     "output_type": "stream",
     "text": [
      " 1\n",
      " -2 -1 -10\n",
      " -5 -10\n"
     ]
    },
    {
     "name": "stdout",
     "output_type": "stream",
     "text": [
      "Danh sách các điểm cực biên là:  [(5.0, 0.0), (0.0, 10.0)]\n",
      "Miền ràng buộc không bị chặn.\n",
      "GTLN là F = -25.0 tại x1 = 5.0, x2 = 0.0\n",
      "GTNN: không tồn tại\n"
     ]
    }
   ],
   "source": [
    "M, constraints, c1, c2 = input_data()\n",
    "\n",
    "extreme_points = find_extreme_points(constraints)\n",
    "print('Danh sách các điểm cực biên là: ', extreme_points)\n",
    "\n",
    "check_bounded = is_bounded(extreme_points, constraints)\n",
    "if check_bounded == True:\n",
    "    print(\"Miền ràng buộc bị chặn.\")\n",
    "elif check_bounded == False:\n",
    "    print(\"Miền ràng buộc không bị chặn.\")\n",
    "else:\n",
    "    print(\"Bài toán không có phương án.\")\n",
    "    \n",
    "if check_bounded != None:\n",
    "    min_val, min_point, max_val, max_point = find_min_max_objective(extreme_points, constraints, c1, c2)\n",
    "    if min_val == None and max_val == None:\n",
    "      print('GTLN: không tồn tại')\n",
    "      print('GTNN: không tồn tại')\n",
    "    elif min_val == None:\n",
    "      print(f'GTLN là F = {max_val} tại x1 = {max_point[0]}, x2 = {max_point[1]}')\n",
    "      print('GTNN: không tồn tại')\n",
    "    elif max_val == None:\n",
    "      print('GTLN: không tồn tại')\n",
    "      print(f'GTNN là F = {min_val} tại x1 = {min_point[0]}, x2 = {min_point[1]}')\n",
    "    else:\n",
    "      print(f'GTLN là F = {max_val} tại x1 = {max_point[0]}, x2 = {max_point[1]}')\n",
    "      print(f'GTNN là F = {min_val} tại x1 = {min_point[0]}, x2 = {min_point[1]}')"
   ]
  },
  {
   "cell_type": "code",
   "execution_count": 47,
   "metadata": {
    "colab": {
     "base_uri": "https://localhost:8080/",
     "height": 623
    },
    "id": "ju67nxbn7S5Q",
    "outputId": "892b3522-bdee-48fb-b807-3acdf51db36f"
   },
   "outputs": [
    {
     "data": {
      "text/html": [
       "\n",
       "<iframe src=\"https://www.geogebra.org/calculator/ducpqbnu?embed\" width=\"1200\" height=\"600\" allowfullscreen style=\"border: 1px solid #e4e4e4;border-radius: 4px;\" frameborder=\"0\"></iframe>\n"
      ],
      "text/plain": [
       "<IPython.core.display.HTML object>"
      ]
     },
     "execution_count": 47,
     "metadata": {},
     "output_type": "execute_result"
    }
   ],
   "source": [
    "fig08 = \"\"\"\n",
    "<iframe src=\"https://www.geogebra.org/calculator/ducpqbnu?embed\" width=\"1200\" height=\"600\" allowfullscreen style=\"border: 1px solid #e4e4e4;border-radius: 4px;\" frameborder=\"0\"></iframe>\n",
    "\"\"\"\n",
    "display.HTML(fig08)"
   ]
  },
  {
   "cell_type": "markdown",
   "metadata": {
    "id": "Iq8z1HFu3d1T"
   },
   "source": [
    "#### Test case 8"
   ]
  },
  {
   "cell_type": "code",
   "execution_count": 49,
   "metadata": {
    "colab": {
     "base_uri": "https://localhost:8080/"
    },
    "id": "gx9ap6uC3c24",
    "outputId": "575cf5fa-7095-4b39-b9da-79b026860fc6"
   },
   "outputs": [
    {
     "name": "stdin",
     "output_type": "stream",
     "text": [
      " 3\n",
      " 1 -1 0\n",
      " -3 -1 -6\n",
      " 1 0 3\n",
      " -15 10\n"
     ]
    },
    {
     "name": "stdout",
     "output_type": "stream",
     "text": [
      "Danh sách các điểm cực biên là:  [(3.0, 3.0), (1.5, 1.5), (0.0, 6.0)]\n",
      "Miền ràng buộc không bị chặn.\n",
      "GTLN: không tồn tại\n",
      "GTNN là F = -15.0 tại x1 = 3.0, x2 = 3.0\n"
     ]
    }
   ],
   "source": [
    "M, constraints, c1, c2 = input_data()\n",
    "\n",
    "extreme_points = find_extreme_points(constraints)\n",
    "print('Danh sách các điểm cực biên là: ', extreme_points)\n",
    "\n",
    "check_bounded = is_bounded(extreme_points, constraints)\n",
    "if check_bounded == True:\n",
    "    print(\"Miền ràng buộc bị chặn.\")\n",
    "elif check_bounded == False:\n",
    "    print(\"Miền ràng buộc không bị chặn.\")\n",
    "else:\n",
    "    print(\"Bài toán không có phương án.\")\n",
    "    \n",
    "if check_bounded != None:\n",
    "    min_val, min_point, max_val, max_point = find_min_max_objective(extreme_points, constraints, c1, c2)\n",
    "    if min_val == None and max_val == None:\n",
    "      print('GTLN: không tồn tại')\n",
    "      print('GTNN: không tồn tại')\n",
    "    elif min_val == None:\n",
    "      print(f'GTLN là F = {max_val} tại x1 = {max_point[0]}, x2 = {max_point[1]}')\n",
    "      print('GTNN: không tồn tại')\n",
    "    elif max_val == None:\n",
    "      print('GTLN: không tồn tại')\n",
    "      print(f'GTNN là F = {min_val} tại x1 = {min_point[0]}, x2 = {min_point[1]}')\n",
    "    else:\n",
    "      print(f'GTLN là F = {max_val} tại x1 = {max_point[0]}, x2 = {max_point[1]}')\n",
    "      print(f'GTNN là F = {min_val} tại x1 = {min_point[0]}, x2 = {min_point[1]}')"
   ]
  },
  {
   "cell_type": "code",
   "execution_count": 50,
   "metadata": {
    "colab": {
     "base_uri": "https://localhost:8080/",
     "height": 623
    },
    "id": "DJVKwjWi4VeF",
    "outputId": "1e6ad19a-7ea7-4fd6-e634-e93d98394299"
   },
   "outputs": [
    {
     "data": {
      "text/html": [
       "\n",
       "<iframe src=\"https://www.geogebra.org/calculator/vfx9nzm8?embed\" width=\"1200\" height=\"600\" allowfullscreen style=\"border: 1px solid #e4e4e4;border-radius: 4px;\" frameborder=\"0\"></iframe>\n"
      ],
      "text/plain": [
       "<IPython.core.display.HTML object>"
      ]
     },
     "execution_count": 50,
     "metadata": {},
     "output_type": "execute_result"
    }
   ],
   "source": [
    "fig09 = \"\"\"\n",
    "<iframe src=\"https://www.geogebra.org/calculator/vfx9nzm8?embed\" width=\"1200\" height=\"600\" allowfullscreen style=\"border: 1px solid #e4e4e4;border-radius: 4px;\" frameborder=\"0\"></iframe>\n",
    "\"\"\"\n",
    "display.HTML(fig09)"
   ]
  },
  {
   "cell_type": "markdown",
   "metadata": {
    "id": "04kKIQT09ZZw"
   },
   "source": [
    "#### Test case 9"
   ]
  },
  {
   "cell_type": "code",
   "execution_count": 52,
   "metadata": {},
   "outputs": [
    {
     "name": "stdin",
     "output_type": "stream",
     "text": [
      " 2\n",
      " -1 -1 -4\n",
      " 1 1 1\n",
      " -20 10\n"
     ]
    },
    {
     "name": "stdout",
     "output_type": "stream",
     "text": [
      "Danh sách các điểm cực biên là:  []\n",
      "Bài toán không có phương án.\n"
     ]
    }
   ],
   "source": [
    "M, constraints, c1, c2 = input_data()\n",
    "\n",
    "extreme_points = find_extreme_points(constraints)\n",
    "print('Danh sách các điểm cực biên là: ', extreme_points)\n",
    "\n",
    "check_bounded = is_bounded(extreme_points, constraints)\n",
    "if check_bounded == True:\n",
    "    print(\"Miền ràng buộc bị chặn.\")\n",
    "elif check_bounded == False:\n",
    "    print(\"Miền ràng buộc không bị chặn.\")\n",
    "else:\n",
    "    print(\"Bài toán không có phương án.\")\n",
    "    \n",
    "if check_bounded != None:\n",
    "    min_val, min_point, max_val, max_point = find_min_max_objective(extreme_points, constraints, c1, c2)\n",
    "    if min_val == None and max_val == None:\n",
    "      print('GTLN: không tồn tại')\n",
    "      print('GTNN: không tồn tại')\n",
    "    elif min_val == None:\n",
    "      print(f'GTLN là F = {max_val} tại x1 = {max_point[0]}, x2 = {max_point[1]}')\n",
    "      print('GTNN: không tồn tại')\n",
    "    elif max_val == None:\n",
    "      print('GTLN: không tồn tại')\n",
    "      print(f'GTNN là F = {min_val} tại x1 = {min_point[0]}, x2 = {min_point[1]}')\n",
    "    else:\n",
    "      print(f'GTLN là F = {max_val} tại x1 = {max_point[0]}, x2 = {max_point[1]}')\n",
    "      print(f'GTNN là F = {min_val} tại x1 = {min_point[0]}, x2 = {min_point[1]}')"
   ]
  },
  {
   "cell_type": "code",
   "execution_count": 53,
   "metadata": {},
   "outputs": [
    {
     "data": {
      "text/html": [
       "\n",
       "<iframe src=\"https://www.geogebra.org/calculator/weawkteb?embed\" width=\"1200\" height=\"600\" allowfullscreen style=\"border: 1px solid #e4e4e4;border-radius: 4px;\" frameborder=\"0\"></iframe>\n"
      ],
      "text/plain": [
       "<IPython.core.display.HTML object>"
      ]
     },
     "execution_count": 53,
     "metadata": {},
     "output_type": "execute_result"
    }
   ],
   "source": [
    "fig10 = \"\"\"\n",
    "<iframe src=\"https://www.geogebra.org/calculator/weawkteb?embed\" width=\"1200\" height=\"600\" allowfullscreen style=\"border: 1px solid #e4e4e4;border-radius: 4px;\" frameborder=\"0\"></iframe>\n",
    "\"\"\"\n",
    "display.HTML(fig10)"
   ]
  },
  {
   "cell_type": "markdown",
   "metadata": {},
   "source": [
    "#### Test case 10"
   ]
  },
  {
   "cell_type": "code",
   "execution_count": 55,
   "metadata": {},
   "outputs": [
    {
     "name": "stdin",
     "output_type": "stream",
     "text": [
      " 2\n",
      " 1 1 4\n",
      " -1 -1 -1\n",
      " -10 20\n"
     ]
    },
    {
     "name": "stdout",
     "output_type": "stream",
     "text": [
      "Danh sách các điểm cực biên là:  [(0.0, 1.0), (1.0, 0.0), (4.0, 0.0), (0.0, 4.0)]\n",
      "Miền ràng buộc bị chặn.\n",
      "GTLN là F = 80.0 tại x1 = 0.0, x2 = 4.0\n",
      "GTNN là F = -40.0 tại x1 = 4.0, x2 = 0.0\n"
     ]
    }
   ],
   "source": [
    "M, constraints, c1, c2 = input_data()\n",
    "\n",
    "extreme_points = find_extreme_points(constraints)\n",
    "print('Danh sách các điểm cực biên là: ', extreme_points)\n",
    "\n",
    "check_bounded = is_bounded(extreme_points, constraints)\n",
    "if check_bounded == True:\n",
    "    print(\"Miền ràng buộc bị chặn.\")\n",
    "elif check_bounded == False:\n",
    "    print(\"Miền ràng buộc không bị chặn.\")\n",
    "else:\n",
    "    print(\"Bài toán không có phương án.\")\n",
    "    \n",
    "if check_bounded != None:\n",
    "    min_val, min_point, max_val, max_point = find_min_max_objective(extreme_points, constraints, c1, c2)\n",
    "    if min_val == None and max_val == None:\n",
    "      print('GTLN: không tồn tại')\n",
    "      print('GTNN: không tồn tại')\n",
    "    elif min_val == None:\n",
    "      print(f'GTLN là F = {max_val} tại x1 = {max_point[0]}, x2 = {max_point[1]}')\n",
    "      print('GTNN: không tồn tại')\n",
    "    elif max_val == None:\n",
    "      print('GTLN: không tồn tại')\n",
    "      print(f'GTNN là F = {min_val} tại x1 = {min_point[0]}, x2 = {min_point[1]}')\n",
    "    else:\n",
    "      print(f'GTLN là F = {max_val} tại x1 = {max_point[0]}, x2 = {max_point[1]}')\n",
    "      print(f'GTNN là F = {min_val} tại x1 = {min_point[0]}, x2 = {min_point[1]}')"
   ]
  },
  {
   "cell_type": "code",
   "execution_count": 56,
   "metadata": {},
   "outputs": [
    {
     "data": {
      "text/html": [
       "\n",
       "<iframe src=\"https://www.geogebra.org/calculator/qghzvcm6?embed\" width=\"1200\" height=\"600\" allowfullscreen style=\"border: 1px solid #e4e4e4;border-radius: 4px;\" frameborder=\"0\"></iframe>\n"
      ],
      "text/plain": [
       "<IPython.core.display.HTML object>"
      ]
     },
     "execution_count": 56,
     "metadata": {},
     "output_type": "execute_result"
    }
   ],
   "source": [
    "fig11 = \"\"\"\n",
    "<iframe src=\"https://www.geogebra.org/calculator/qghzvcm6?embed\" width=\"1200\" height=\"600\" allowfullscreen style=\"border: 1px solid #e4e4e4;border-radius: 4px;\" frameborder=\"0\"></iframe>\n",
    "\"\"\"\n",
    "display.HTML(fig11)"
   ]
  },
  {
   "cell_type": "code",
   "execution_count": null,
   "metadata": {},
   "outputs": [],
   "source": []
  }
 ],
 "metadata": {
  "colab": {
   "provenance": []
  },
  "kernelspec": {
   "display_name": "Python 3 (ipykernel)",
   "language": "python",
   "name": "python3"
  },
  "language_info": {
   "codemirror_mode": {
    "name": "ipython",
    "version": 3
   },
   "file_extension": ".py",
   "mimetype": "text/x-python",
   "name": "python",
   "nbconvert_exporter": "python",
   "pygments_lexer": "ipython3",
   "version": "3.12.2"
  }
 },
 "nbformat": 4,
 "nbformat_minor": 4
}
